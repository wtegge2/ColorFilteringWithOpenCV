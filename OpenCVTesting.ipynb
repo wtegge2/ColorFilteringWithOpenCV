{
 "cells": [
  {
   "cell_type": "markdown",
   "metadata": {},
   "source": [
    "Below is a snippet of code that helps you understand the basics of how to access and use your camera with OpenCV.\n",
    "\n",
    "OpenCV can: open your camera, take a picture, take a video, and save any pictures taken\n",
    "\n",
    "This code opens up the user's camera and displays the video until the user presses any key on the keyboard. \n",
    "\n",
    "This snippet was taken directly from this OpenCV tutorial I found online that helped me learn:\n",
    "Link: [OpenCV Tutorial](https://en.wikibooks.org/wiki/Applied_Robotics/Sensors_and_Perception/Open_CV/Basic_OpenCV_Tutorial)\n",
    "\n",
    "**THIS IS NOT MY ORIGINAL CODE**"
   ]
  },
  {
   "cell_type": "code",
   "execution_count": null,
   "metadata": {},
   "outputs": [],
   "source": [
    "#!/usr/bin/python\n",
    "import cv2\n",
    "\n",
    "# Open video device\n",
    "capture1 = cv2.VideoCapture(0)\n",
    "while True:\n",
    "    ret, img = capture1.read() # Read an image\n",
    "    cv2.imshow(\"ImageWindow\", img) # Display the image\n",
    "    if (cv2.waitKey(2) >= 0): # If the user presses a key, exit while loop\n",
    "        break\n",
    "cv2.destroyAllWindows() # Close window\n",
    "cv2.VideoCapture(0).release() # Release video device\n",
    "\n"
   ]
  }
 ],
 "metadata": {
  "kernelspec": {
   "display_name": "Python 3",
   "language": "python",
   "name": "python3"
  },
  "language_info": {
   "name": "python",
   "version": "3.9.13"
  }
 },
 "nbformat": 4,
 "nbformat_minor": 2
}
